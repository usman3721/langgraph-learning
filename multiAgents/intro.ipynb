{
 "cells": [
  {
   "cell_type": "code",
   "execution_count": 2,
   "id": "758c875d",
   "metadata": {},
   "outputs": [
    {
     "name": "stderr",
     "output_type": "stream",
     "text": [
      "C:\\Users\\DELL\\AppData\\Local\\Temp\\ipykernel_15296\\4144572755.py:14: LangChainDeprecationWarning: The class `TavilySearchResults` was deprecated in LangChain 0.3.25 and will be removed in 1.0. An updated version of the class exists in the :class:`~langchain-tavily package and should be used instead. To use it run `pip install -U :class:`~langchain-tavily` and import as `from :class:`~langchain_tavily import TavilySearch``.\n",
      "  search_tool = TavilySearchResults(max_results=2)\n"
     ]
    }
   ],
   "source": [
    "from typing import TypedDict, Annotated\n",
    "from langgraph.graph import add_messages, StateGraph, END\n",
    "from langchain_groq import ChatGroq\n",
    "from langchain_core.messages import AIMessage, HumanMessage\n",
    "from dotenv import load_dotenv\n",
    "from langchain_community.tools.tavily_search import TavilySearchResults\n",
    "from langgraph.prebuilt import ToolNode\n",
    "\n",
    "load_dotenv()\n",
    "\n",
    "class ChildState(TypedDict):\n",
    "    messages: Annotated[list, add_messages]\n",
    "\n",
    "search_tool = TavilySearchResults(max_results=2)\n",
    "tools = [search_tool]\n",
    "\n",
    "llm = ChatGroq(model=\"llama-3.1-8b-instant\")\n",
    "\n",
    "llm_with_tools = llm.bind_tools(tools=tools)\n",
    "\n",
    "def agent(state: ChildState):\n",
    "    return {\n",
    "        \"messages\": [llm_with_tools.invoke(state[\"messages\"])], \n",
    "    }\n",
    "\n",
    "def tools_router(state: ChildState):\n",
    "    last_message = state[\"messages\"][-1]\n",
    "\n",
    "    if(hasattr(last_message, \"tool_calls\") and len(last_message.tool_calls) > 0):\n",
    "        return \"tool_node\"\n",
    "    else: \n",
    "        return END\n",
    "    \n",
    "\n",
    "tool_node = ToolNode(tools=tools)\n",
    "\n",
    "subgraph = StateGraph(ChildState)\n",
    "\n",
    "subgraph.add_node(\"agent\", agent)\n",
    "subgraph.add_node(\"tool_node\", tool_node)\n",
    "subgraph.set_entry_point(\"agent\")\n",
    "\n",
    "subgraph.add_conditional_edges(\"agent\", tools_router)\n",
    "subgraph.add_edge(\"tool_node\", \"agent\")\n",
    "\n",
    "search_app = subgraph.compile()"
   ]
  },
  {
   "cell_type": "code",
   "execution_count": 3,
   "id": "2d730a1b",
   "metadata": {},
   "outputs": [
    {
     "data": {
      "image/png": "[encoded data removed]",
      "text/plain": [
       "<IPython.core.display.Image object>"
      ]
     },
     "metadata": {},
     "output_type": "display_data"
    }
   ],
   "source": [
    "from IPython.display import Image, display\n",
    "from langchain_core.runnables.graph import MermaidDrawMethod\n",
    "\n",
    "display(\n",
    "    Image(\n",
    "        search_app.get_graph().draw_mermaid_png(\n",
    "            draw_method=MermaidDrawMethod.API\n",
    "        )\n",
    "    )\n",
    ")"
   ]
  },
  {
   "cell_type": "code",
   "execution_count": 4,
   "id": "adc666b1",
   "metadata": {},
   "outputs": [
    {
     "data": {
      "text/plain": [
       "{'messages': [HumanMessage(content='How is the weather in Chennai?', additional_kwargs={}, response_metadata={}, id='4f32299e-c7db-4747-bdfc-47a7fc81346c'),\n",
       "  AIMessage(content='', additional_kwargs={'tool_calls': [{'id': 'm412e9320', 'function': {'arguments': '{\"query\":\"Chennai weather today\"}', 'name': 'tavily_search_results_json'}, 'type': 'function'}]}, response_metadata={'token_usage': {'completion_tokens': 21, 'prompt_tokens': 285, 'total_tokens': 306, 'completion_time': 0.03712473, 'prompt_time': 0.016959567, 'queue_time': 0.09112798400000001, 'total_time': 0.054084297}, 'model_name': 'llama-3.1-8b-instant', 'system_fingerprint': 'fp_510c177af0', 'finish_reason': 'tool_calls', 'logprobs': None}, id='run--5ecb20e1-a64d-46c4-9d84-9d041565829f-0', tool_calls=[{'name': 'tavily_search_results_json', 'args': {'query': 'Chennai weather today'}, 'id': 'm412e9320', 'type': 'tool_call'}], usage_metadata={'input_tokens': 285, 'output_tokens': 21, 'total_tokens': 306}),\n",
       "  ToolMessage(content='[{\"title\": \"Weather in Chennai in July 2025 (State of Tamil Nādu)\", \"url\": \"https://world-weather.info/forecast/india/chennai_1/july-2025/\", \"content\": \"Weather in Chennai in July 2025. Chennai Weather Forecast for July 2025 is ... Tuesday, 15 July. +81°. Day. +88°. Drizzle. Wednesday, 16 July. +81°. Day. +88\", \"score\": 0.9485422}, {\"title\": \"Chennai weather in July 2025 - Weather25.com\", \"url\": \"https://www.weather25.com/asia/india/tamil-nadu/chennai?page=month&month=July\", \"content\": \"| 27 Partly cloudy 34° /28° | 28 Partly cloudy 34° /28° | 29 Thundery outbreaks possible 35° /28° | 30 Partly cloudy 34° /28° | 31 Thundery outbreaks possible 34° /28° |  |  | [...] Moderate or heavy rain shower\\\\nPatchy rain possible\\\\nLight rain shower\\\\nOvercast\\\\nLight rain shower\\\\nPatchy rain possible\\\\nPatchy rain possible\\\\nLight rain shower\\\\nLight rain shower\\\\nCloudy\\\\nLight rain shower\\\\nPatchy rain possible\\\\nLight rain shower\\\\nLight rain shower\\\\nPatchy rain possible\\\\nOvercast\\\\nLight drizzle\\\\nLight rain shower\\\\nPatchy light rain\\\\nCloudy\\\\nPatchy rain possible\\\\nPatchy light drizzle\\\\nPatchy light drizzle\\\\nPatchy rain possible\\\\nPatchy rain possible\\\\nPatchy rain possible\\\\nPartly cloudy\\\\nPartly cloudy [...] weather25.com\\\\nSearch\\\\nweather in India\\\\nRemove from your favorite locations\\\\nAdd to my locations\\\\nShare\\\\nweather in India\\\\n\\\\n# Chennai weather in July 2025\\\\n\\\\nPatchy rain possible\\\\nOvercast\\\\nLight drizzle\\\\nLight rain shower\\\\nPatchy light rain\\\\nCloudy\\\\nPatchy rain possible\\\\nPatchy light drizzle\\\\nPatchy light drizzle\\\\nPatchy rain possible\\\\nPatchy rain possible\\\\nPatchy rain possible\\\\nPartly cloudy\\\\nPartly cloudy\\\\n\\\\n## The average weather in Chennai in July\", \"score\": 0.89849097}]', name='tavily_search_results_json', id='021f2ec7-f77f-4edd-9aca-7e8b40d8b46d', tool_call_id='m412e9320', artifact={'query': 'Chennai weather today', 'follow_up_questions': None, 'answer': None, 'images': [], 'results': [{'url': 'https://world-weather.info/forecast/india/chennai_1/july-2025/', 'title': 'Weather in Chennai in July 2025 (State of Tamil Nādu)', 'content': 'Weather in Chennai in July 2025. Chennai Weather Forecast for July 2025 is ... Tuesday, 15 July. +81°. Day. +88°. Drizzle. Wednesday, 16 July. +81°. Day. +88', 'score': 0.9485422, 'raw_content': None}, {'url': 'https://www.weather25.com/asia/india/tamil-nadu/chennai?page=month&month=July', 'title': 'Chennai weather in July 2025 - Weather25.com', 'content': '| 27 Partly cloudy 34° /28° | 28 Partly cloudy 34° /28° | 29 Thundery outbreaks possible 35° /28° | 30 Partly cloudy 34° /28° | 31 Thundery outbreaks possible 34° /28° |  |  | [...] Moderate or heavy rain shower\\nPatchy rain possible\\nLight rain shower\\nOvercast\\nLight rain shower\\nPatchy rain possible\\nPatchy rain possible\\nLight rain shower\\nLight rain shower\\nCloudy\\nLight rain shower\\nPatchy rain possible\\nLight rain shower\\nLight rain shower\\nPatchy rain possible\\nOvercast\\nLight drizzle\\nLight rain shower\\nPatchy light rain\\nCloudy\\nPatchy rain possible\\nPatchy light drizzle\\nPatchy light drizzle\\nPatchy rain possible\\nPatchy rain possible\\nPatchy rain possible\\nPartly cloudy\\nPartly cloudy [...] weather25.com\\nSearch\\nweather in India\\nRemove from your favorite locations\\nAdd to my locations\\nShare\\nweather in India\\n\\n# Chennai weather in July 2025\\n\\nPatchy rain possible\\nOvercast\\nLight drizzle\\nLight rain shower\\nPatchy light rain\\nCloudy\\nPatchy rain possible\\nPatchy light drizzle\\nPatchy light drizzle\\nPatchy rain possible\\nPatchy rain possible\\nPatchy rain possible\\nPartly cloudy\\nPartly cloudy\\n\\n## The average weather in Chennai in July', 'score': 0.89849097, 'raw_content': None}], 'response_time': 4.78}),\n",
       "  AIMessage(content='The current weather in Chennai is mostly cloudy with a few light rain showers. The average temperature is around 34°C (93°F) during the day and 28°C (82°F) at night. There is a chance of patchy rain possible, overcast, and light drizzle throughout the day.', additional_kwargs={}, response_metadata={'token_usage': {'completion_tokens': 63, 'prompt_tokens': 794, 'total_tokens': 857, 'completion_time': 0.094377643, 'prompt_time': 0.05477034, 'queue_time': 0.09076186, 'total_time': 0.149147983}, 'model_name': 'llama-3.1-8b-instant', 'system_fingerprint': 'fp_510c177af0', 'finish_reason': 'stop', 'logprobs': None}, id='run--9f2c00bc-a52f-407f-a5c8-db23e8f043b3-0', usage_metadata={'input_tokens': 794, 'output_tokens': 63, 'total_tokens': 857})]}"
      ]
     },
     "execution_count": 4,
     "metadata": {},
     "output_type": "execute_result"
    }
   ],
   "source": [
    "\n",
    "search_app.invoke({\"messages\": [HumanMessage(content=\"How is the weather in Chennai?\")]})"
   ]
  },
  {
   "cell_type": "code",
   "execution_count": null,
   "id": "4339c4e9",
   "metadata": {},
   "outputs": [],
   "source": []
  },
  {
   "cell_type": "markdown",
   "id": "affb7358",
   "metadata": {},
   "source": [
    "Shared Schema "
   ]
  },
  {
   "cell_type": "code",
   "execution_count": 5,
   "id": "3891f65e",
   "metadata": {},
   "outputs": [
    {
     "data": {
      "text/plain": [
       "{'messages': [HumanMessage(content='How is the weather in Chennai?', additional_kwargs={}, response_metadata={}, id='b0971b29-853b-4daa-ad61-979f2783055f'),\n",
       "  AIMessage(content='', additional_kwargs={'tool_calls': [{'id': 'ehs3hm495', 'function': {'arguments': '{\"query\":\"Current weather in Chennai\"}', 'name': 'tavily_search_results_json'}, 'type': 'function'}]}, response_metadata={'token_usage': {'completion_tokens': 21, 'prompt_tokens': 569, 'total_tokens': 590, 'completion_time': 0.032113931, 'prompt_time': 0.037326797, 'queue_time': -0.07116528999999999, 'total_time': 0.069440728}, 'model_name': 'llama-3.1-8b-instant', 'system_fingerprint': 'fp_8ab2e50475', 'finish_reason': 'tool_calls', 'logprobs': None}, id='run--cec7df03-0468-48a9-bf35-f1f0e896577d-0', tool_calls=[{'name': 'tavily_search_results_json', 'args': {'query': 'Current weather in Chennai'}, 'id': 'ehs3hm495', 'type': 'tool_call'}], usage_metadata={'input_tokens': 569, 'output_tokens': 21, 'total_tokens': 590}),\n",
       "  ToolMessage(content='[{\"title\": \"Chennai Weather Forecast 15 Jul 2025 - Times of India\", \"url\": \"https://timesofindia.indiatimes.com/weather/chennai-weather-forecast-today/600017\", \"content\": \"# Chennai Weather Forecast 15 Jul 2025\\\\n\\\\n114111865\\\\n114111808\\\\n114111836\\\\n114111836\\\\n114111880\\\\n114111880\\\\n114111880\\\\n114111880\\\\n114111823\\\\n114111823\\\\n114111823\\\\n114111823\\\\n114111823\\\\n114111797\\\\n114111880\\\\n114111797\\\\n114111797\\\\n114111880\\\\n114111880\\\\n114111880\\\\n114111880\\\\n114111880\\\\n114111880\\\\n114111880\\\\n114111880\\\\n114111836\\\\n114111797\\\\n114111808\\\\n114111808\\\\n114111893\\\\n114111893\\\\n\\\\n## Weather in Popular Cities Clear skies or hazardous air? Get the latest weather insights\\\\n\\\\n## Related Articles [...] Bengaluru weather forecast: Mild temperatures with scattered showers - July 15, 2025\\\\nNew Delhi weather update: Warm and rainy conditions expected this week\\\\nKolkata weather update: Heavy rain and humidity today, July 14, 2025\\\\nKolkata weather update: Rainy tuesday with high humidity and cozy indoor activities\\\\nBengaluru weather forecast: Expect patchy rain and mild temperatures this week\\\\nChennai weather update: Warm day with patchy rain and humidity on July 13, 2025\\\\nlogo [...] ##### 2. What is the chance of rain in Chennai today?\\\\n\\\\n##### 3. When is the sunrise and sunset in Chennai today?\\\\n\\\\n##### 4. What will the weather be like in Chennai tomorrow?\\\\n\\\\n##### 5. Will it rain tomorrow in Chennai?\\\\n\\\\n## Other Cities\\\\n\\\\n## More Stories\", \"score\": 0.89121616}, {\"title\": \"Chennai weather in July 2025 - Weather25.com\", \"url\": \"https://www.weather25.com/asia/india/tamil-nadu/chennai?page=month&month=July\", \"content\": \"Moderate or heavy rain shower\\\\nPatchy rain possible\\\\nLight rain shower\\\\nOvercast\\\\nLight rain shower\\\\nPatchy rain possible\\\\nPatchy rain possible\\\\nLight rain shower\\\\nLight rain shower\\\\nCloudy\\\\nLight rain shower\\\\nPatchy rain possible\\\\nLight rain shower\\\\nLight rain shower\\\\nPatchy rain possible\\\\nOvercast\\\\nLight drizzle\\\\nLight rain shower\\\\nPatchy light rain\\\\nCloudy\\\\nPatchy rain possible\\\\nPatchy light drizzle\\\\nPatchy light drizzle\\\\nPatchy rain possible\\\\nPatchy rain possible\\\\nPatchy rain possible\\\\nPartly cloudy\\\\nPartly cloudy [...] | 27 Partly cloudy 34° /28° | 28 Partly cloudy 34° /28° | 29 Thundery outbreaks possible 35° /28° | 30 Partly cloudy 34° /28° | 31 Thundery outbreaks possible 34° /28° |  |  | [...] weather25.com\\\\nSearch\\\\nweather in India\\\\nRemove from your favorite locations\\\\nAdd to my locations\\\\nShare\\\\nweather in India\\\\n\\\\n# Chennai weather in July 2025\\\\n\\\\nPatchy rain possible\\\\nOvercast\\\\nLight drizzle\\\\nLight rain shower\\\\nPatchy light rain\\\\nCloudy\\\\nPatchy rain possible\\\\nPatchy light drizzle\\\\nPatchy light drizzle\\\\nPatchy rain possible\\\\nPatchy rain possible\\\\nPatchy rain possible\\\\nPartly cloudy\\\\nPartly cloudy\\\\n\\\\n## The average weather in Chennai in July\", \"score\": 0.8834878}]', name='tavily_search_results_json', id='2c92a75e-e0f2-41fd-8b46-4dd478e474c9', tool_call_id='ehs3hm495', artifact={'query': 'Current weather in Chennai', 'follow_up_questions': None, 'answer': None, 'images': [], 'results': [{'url': 'https://timesofindia.indiatimes.com/weather/chennai-weather-forecast-today/600017', 'title': 'Chennai Weather Forecast 15 Jul 2025 - Times of India', 'content': '# Chennai Weather Forecast 15 Jul 2025\\n\\n114111865\\n114111808\\n114111836\\n114111836\\n114111880\\n114111880\\n114111880\\n114111880\\n114111823\\n114111823\\n114111823\\n114111823\\n114111823\\n114111797\\n114111880\\n114111797\\n114111797\\n114111880\\n114111880\\n114111880\\n114111880\\n114111880\\n114111880\\n114111880\\n114111880\\n114111836\\n114111797\\n114111808\\n114111808\\n114111893\\n114111893\\n\\n## Weather in Popular Cities Clear skies or hazardous air? Get the latest weather insights\\n\\n## Related Articles [...] Bengaluru weather forecast: Mild temperatures with scattered showers - July 15, 2025\\nNew Delhi weather update: Warm and rainy conditions expected this week\\nKolkata weather update: Heavy rain and humidity today, July 14, 2025\\nKolkata weather update: Rainy tuesday with high humidity and cozy indoor activities\\nBengaluru weather forecast: Expect patchy rain and mild temperatures this week\\nChennai weather update: Warm day with patchy rain and humidity on July 13, 2025\\nlogo [...] ##### 2. What is the chance of rain in Chennai today?\\n\\n##### 3. When is the sunrise and sunset in Chennai today?\\n\\n##### 4. What will the weather be like in Chennai tomorrow?\\n\\n##### 5. Will it rain tomorrow in Chennai?\\n\\n## Other Cities\\n\\n## More Stories', 'score': 0.89121616, 'raw_content': None}, {'url': 'https://www.weather25.com/asia/india/tamil-nadu/chennai?page=month&month=July', 'title': 'Chennai weather in July 2025 - Weather25.com', 'content': 'Moderate or heavy rain shower\\nPatchy rain possible\\nLight rain shower\\nOvercast\\nLight rain shower\\nPatchy rain possible\\nPatchy rain possible\\nLight rain shower\\nLight rain shower\\nCloudy\\nLight rain shower\\nPatchy rain possible\\nLight rain shower\\nLight rain shower\\nPatchy rain possible\\nOvercast\\nLight drizzle\\nLight rain shower\\nPatchy light rain\\nCloudy\\nPatchy rain possible\\nPatchy light drizzle\\nPatchy light drizzle\\nPatchy rain possible\\nPatchy rain possible\\nPatchy rain possible\\nPartly cloudy\\nPartly cloudy [...] | 27 Partly cloudy 34° /28° | 28 Partly cloudy 34° /28° | 29 Thundery outbreaks possible 35° /28° | 30 Partly cloudy 34° /28° | 31 Thundery outbreaks possible 34° /28° |  |  | [...] weather25.com\\nSearch\\nweather in India\\nRemove from your favorite locations\\nAdd to my locations\\nShare\\nweather in India\\n\\n# Chennai weather in July 2025\\n\\nPatchy rain possible\\nOvercast\\nLight drizzle\\nLight rain shower\\nPatchy light rain\\nCloudy\\nPatchy rain possible\\nPatchy light drizzle\\nPatchy light drizzle\\nPatchy rain possible\\nPatchy rain possible\\nPatchy rain possible\\nPartly cloudy\\nPartly cloudy\\n\\n## The average weather in Chennai in July', 'score': 0.8834878, 'raw_content': None}], 'response_time': 4.3}),\n",
       "  AIMessage(content=\"Based on the search results, it appears that the weather in Chennai is expected to be mostly cloudy with patchy rain showers throughout the day. The temperature is expected to be around 34°C/28°C. It's also possible that there may be thundery outbreaks on some days.\", additional_kwargs={}, response_metadata={'token_usage': {'completion_tokens': 59, 'prompt_tokens': 1081, 'total_tokens': 1140, 'completion_time': 0.095159296, 'prompt_time': 0.162559369, 'queue_time': 0.08932199899999999, 'total_time': 0.257718665}, 'model_name': 'llama-3.1-8b-instant', 'system_fingerprint': 'fp_510c177af0', 'finish_reason': 'stop', 'logprobs': None}, id='run--ed7a172a-c1e0-49ff-8c81-91b8614323c5-0', usage_metadata={'input_tokens': 1081, 'output_tokens': 59, 'total_tokens': 1140})]}"
      ]
     },
     "execution_count": 5,
     "metadata": {},
     "output_type": "execute_result"
    }
   ],
   "source": [
    "from typing import TypedDict, Annotated\n",
    "from langgraph.graph import add_messages, StateGraph, START, END\n",
    "from langchain_core.messages import HumanMessage\n",
    "\n",
    "# Define parent graph with the same schema\n",
    "class ParentState(TypedDict):\n",
    "    messages: Annotated[list, add_messages]\n",
    "\n",
    "# Create parent graph\n",
    "parent_graph = StateGraph(ParentState)\n",
    "\n",
    "# Add the subgraph as a node\n",
    "parent_graph.add_node(\"search_agent\", search_app)\n",
    "\n",
    "# Connect the flow\n",
    "parent_graph.add_edge(START, \"search_agent\")\n",
    "parent_graph.add_edge(\"search_agent\", END)\n",
    "\n",
    "# Compile parent graph\n",
    "parent_app = parent_graph.compile()\n",
    "\n",
    "# Run the parent graph\n",
    "result = parent_app.invoke({\"messages\": [HumanMessage(content=\"How is the weather in Chennai?\")]})\n",
    "result  "
   ]
  },
  {
   "cell_type": "markdown",
   "id": "6a88b799",
   "metadata": {},
   "source": [
    "Different Schema"
   ]
  },
  {
   "cell_type": "code",
   "execution_count": 6,
   "id": "da2f7450",
   "metadata": {},
   "outputs": [
    {
     "name": "stdout",
     "output_type": "stream",
     "text": [
      "{'query': 'How is the weather in Chennai?', 'response': 'The weather in Chennai today is warm and humid with a high chance of rain. The forecast for the week indicates that it will be partly cloudy with thundery outbreaks possible. The average weather in Chennai in July is characterized by patchy rain possible, overcast, light drizzle, and light rain showers.'}\n"
     ]
    }
   ],
   "source": [
    "from typing import TypedDict, Annotated, Dict\n",
    "from langgraph.graph import StateGraph, START, END\n",
    "from langchain_core.messages import HumanMessage\n",
    "\n",
    "# Define parent graph with different schema\n",
    "class QueryState(TypedDict):\n",
    "    query: str\n",
    "    response: str\n",
    "\n",
    "# Function to invoke subgraph\n",
    "def search_agent(state: QueryState) -> Dict:\n",
    "    # Transform from parent schema to subgraph schema\n",
    "    subgraph_input = {\n",
    "        \"messages\": [HumanMessage(content=state[\"query\"])]\n",
    "    }\n",
    "    \n",
    "    # Invoke the subgraph\n",
    "    subgraph_result = search_app.invoke(subgraph_input)\n",
    "    \n",
    "    # Transform response back to parent schema\n",
    "    assistant_message = subgraph_result[\"messages\"][-1]\n",
    "    return {\"response\": assistant_message.content}\n",
    "\n",
    "# Create parent graph\n",
    "parent_graph = StateGraph(QueryState)\n",
    "\n",
    "# Add transformation node that invokes subgraph\n",
    "parent_graph.add_node(\"search_agent\", search_agent)\n",
    "\n",
    "# Connect the flow\n",
    "parent_graph.add_edge(START, \"search_agent\")\n",
    "parent_graph.add_edge(\"search_agent\", END)\n",
    "\n",
    "# Compile parent graph\n",
    "parent_app = parent_graph.compile()\n",
    "\n",
    "# Run the parent graph\n",
    "result = parent_app.invoke({\"query\": \"How is the weather in Chennai?\", \"response\": \"\"})\n",
    "print(result)"
   ]
  },
  {
   "cell_type": "code",
   "execution_count": null,
   "id": "fe0fae1a",
   "metadata": {},
   "outputs": [],
   "source": []
  }
 ],
 "metadata": {
  "kernelspec": {
   "display_name": ".venv",
   "language": "python",
   "name": "python3"
  },
  "language_info": {
   "codemirror_mode": {
    "name": "ipython",
    "version": 3
   },
   "file_extension": ".py",
   "mimetype": "text/x-python",
   "name": "python",
   "nbconvert_exporter": "python",
   "pygments_lexer": "ipython3",
   "version": "3.12.10"
  }
 },
 "nbformat": 4,
 "nbformat_minor": 5
}
