{
 "cells": [
  {
   "cell_type": "code",
   "execution_count": 2,
   "id": "be181877",
   "metadata": {},
   "outputs": [
    {
     "name": "stderr",
     "output_type": "stream",
     "text": [
      "Task node_c with path ('__pregel_pull', 'node_c') wrote to unknown channel branch:to:__end__, ignoring it.\n"
     ]
    },
    {
     "name": "stdout",
     "output_type": "stream",
     "text": [
      "Node A\n",
      "Node B\n",
      "Node C\n"
     ]
    },
    {
     "data": {
      "text/plain": [
       "{'text': 'abc'}"
      ]
     },
     "execution_count": 2,
     "metadata": {},
     "output_type": "execute_result"
    }
   ],
   "source": [
    "from langgraph.graph import StateGraph, START, END\n",
    "from langgraph.types import Command\n",
    "from typing import TypedDict\n",
    "\n",
    "class State(TypedDict):\n",
    "    text: str\n",
    "\n",
    "def node_a(state: State): \n",
    "    print(\"Node A\")\n",
    "    return Command(\n",
    "        goto=\"node_b\", \n",
    "        update={\n",
    "            \"text\": state[\"text\"] + \"a\"\n",
    "        }\n",
    "    )\n",
    "\n",
    "def node_b(state: State): \n",
    "    print(\"Node B\")\n",
    "    return Command(\n",
    "        goto=\"node_c\", \n",
    "        update={\n",
    "            \"text\": state[\"text\"] + \"b\"\n",
    "        }\n",
    "    )\n",
    "\n",
    "\n",
    "def node_c(state: State): \n",
    "    print(\"Node C\")\n",
    "    return Command(\n",
    "        goto=END, \n",
    "        update={\n",
    "            \"text\": state[\"text\"] + \"c\"\n",
    "        }\n",
    "    )\n",
    "\n",
    "graph = StateGraph(State)\n",
    "\n",
    "graph.add_node(\"node_a\", node_a)\n",
    "graph.add_node(\"node_b\", node_b)\n",
    "graph.add_node(\"node_c\", node_c)\n",
    "\n",
    "graph.set_entry_point(\"node_a\")\n",
    "\n",
    "\n",
    "app = graph.compile()\n",
    "\n",
    "response = app.invoke({\n",
    "    \"text\": \"\"\n",
    "})\n",
    "\n",
    "response\n"
   ]
  },
  {
   "cell_type": "code",
   "execution_count": null,
   "id": "f32fa1fc",
   "metadata": {},
   "outputs": [
    {
     "ename": "",
     "evalue": "",
     "output_type": "error",
     "traceback": [
      "\u001b[1;31mRunning cells with '.venv (Python 3.12.10)' requires the ipykernel package.\n",
      "\u001b[1;31mInstall 'ipykernel' into the Python environment. \n",
      "\u001b[1;31mCommand: '\"c:/Users/DELL/Desktop/Upskilling/Langraph Practice/.venv/Scripts/python.exe\" -m pip install ipykernel -U --force-reinstall'"
     ]
    }
   ],
   "source": []
  },
  {
   "cell_type": "code",
   "execution_count": null,
   "id": "92e7fa4c",
   "metadata": {},
   "outputs": [],
   "source": []
  }
 ],
 "metadata": {
  "kernelspec": {
   "display_name": ".venv",
   "language": "python",
   "name": "python3"
  },
  "language_info": {
   "codemirror_mode": {
    "name": "ipython",
    "version": 3
   },
   "file_extension": ".py",
   "mimetype": "text/x-python",
   "name": "python",
   "nbconvert_exporter": "python",
   "pygments_lexer": "ipython3",
   "version": "3.12.10"
  }
 },
 "nbformat": 4,
 "nbformat_minor": 5
}
